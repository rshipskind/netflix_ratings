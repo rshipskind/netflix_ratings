{
 "cells": [
  {
   "cell_type": "code",
   "execution_count": 30,
   "metadata": {
    "collapsed": false
   },
   "outputs": [],
   "source": [
    "\"\"\"graphs two users' netflix ratings.\"\"\"\n",
    "import json\n",
    "import matplotlib.pyplot as plt\n",
    "import seaborn as sns\n",
    "import numpy as np\n",
    "from collections import Counter"
   ]
  },
  {
   "cell_type": "code",
   "execution_count": 2,
   "metadata": {
    "collapsed": false
   },
   "outputs": [
    {
     "name": "stdout",
     "output_type": "stream",
     "text": [
      "Filepath to first account JSON: rob_ratings.json\n",
      "User one: Rob\n",
      "Filepath to second account JSON, or 'pass': s_ratings.json\n",
      "User two: s\n"
     ]
    }
   ],
   "source": [
    "json_one = input(\"Filepath to first account JSON: \")\n",
    "user_one = input(\"User one: \")\n",
    "json_two = input(\"Filepath to second account JSON, or 'pass': \")\n",
    "if json_two != 'pass':\n",
    "    user_two = input(\"User two: \")"
   ]
  },
  {
   "cell_type": "code",
   "execution_count": 16,
   "metadata": {
    "collapsed": true
   },
   "outputs": [],
   "source": [
    "with open(json_one) as data_file:\n",
    "    data_one = json.load(data_file)\n",
    "ratings = Counter()\n",
    "for i in data_one:\n",
    "    rating = int(i['yourrating'])\n",
    "    if rating == 1:\n",
    "        ratings[1] += 1\n",
    "    elif rating == 2:\n",
    "        ratings[2] += 1\n",
    "    elif rating == 3:\n",
    "        ratings[3] += 1\n",
    "    elif rating == 4:\n",
    "        ratings[4] += 1\n",
    "    elif rating == 5:\n",
    "        ratings[5] += 1\n",
    "ratings_count = sum(ratings.values())"
   ]
  },
  {
   "cell_type": "code",
   "execution_count": 24,
   "metadata": {
    "collapsed": true
   },
   "outputs": [],
   "source": [
    "ones = ratings[1] / ratings_count * 100\n",
    "twos = ratings[2] / ratings_count * 100\n",
    "threes = ratings[3] / ratings_count * 100\n",
    "fours = ratings[4] / ratings_count * 100\n",
    "fives = ratings[5] / ratings_count * 100"
   ]
  },
  {
   "cell_type": "code",
   "execution_count": 25,
   "metadata": {
    "collapsed": false
   },
   "outputs": [
    {
     "data": {
      "text/plain": [
       "[<matplotlib.lines.Line2D at 0x11893f588>]"
      ]
     },
     "execution_count": 25,
     "metadata": {},
     "output_type": "execute_result"
    }
   ],
   "source": [
    "x = [1, 2, 3, 4, 5]\n",
    "y = [ones, twos, threes, fours, fives]\n",
    "\n",
    "plt.plot(x, y, label=user_one)"
   ]
  },
  {
   "cell_type": "code",
   "execution_count": 31,
   "metadata": {
    "collapsed": false
   },
   "outputs": [],
   "source": [
    "if json_two == 'pass':\n",
    "    pass\n",
    "else:\n",
    "    with open(json_two) as data_file:\n",
    "        data_two = json.load(data_file)\n",
    "\n",
    "    ratings = Counter()\n",
    "    for i in data_two:\n",
    "        rating = int(i['yourrating'])\n",
    "        if rating == 1:\n",
    "            ratings[1] += 1\n",
    "        elif rating == 2:\n",
    "            ratings[2] += 1\n",
    "        elif rating == 3:\n",
    "            ratings[3] += 1\n",
    "        elif rating == 4:\n",
    "            ratings[4] += 1\n",
    "        elif rating == 5:\n",
    "            ratings[5] += 1\n",
    "    ratings_count = sum(ratings.values())\n",
    "\n",
    "    ones = ratings[1] / ratings_count * 100\n",
    "    twos = ratings[2] / ratings_count * 100\n",
    "    threes = ratings[3] / ratings_count * 100\n",
    "    fours = ratings[4] / ratings_count * 100\n",
    "    fives = ratings[5] / ratings_count * 100\n",
    "\n",
    "    x = [1, 2, 3, 4, 5]\n",
    "    y = [ones, twos, threes, fours, fives]\n",
    "\n",
    "    plt.plot(x, y, c='b', label=user_two)"
   ]
  },
  {
   "cell_type": "code",
   "execution_count": 32,
   "metadata": {
    "collapsed": false
   },
   "outputs": [],
   "source": [
    "plt.style.use('fivethirtyeight')\n",
    "plt.title('Comparative Netflix Ratings')\n",
    "plt.ylabel('Percentage of Ratings')\n",
    "plt.xlabel('Rating')\n",
    "plt.legend(loc='upper right')\n",
    "plt.xticks(np.arange(min(x), max(x)+1, 1.0))\n",
    "plt.show()"
   ]
  },
  {
   "cell_type": "code",
   "execution_count": null,
   "metadata": {
    "collapsed": true
   },
   "outputs": [],
   "source": []
  }
 ],
 "metadata": {
  "kernelspec": {
   "display_name": "Python 3",
   "language": "python",
   "name": "python3"
  },
  "language_info": {
   "codemirror_mode": {
    "name": "ipython",
    "version": 3
   },
   "file_extension": ".py",
   "mimetype": "text/x-python",
   "name": "python",
   "nbconvert_exporter": "python",
   "pygments_lexer": "ipython3",
   "version": "3.4.3"
  }
 },
 "nbformat": 4,
 "nbformat_minor": 0
}
